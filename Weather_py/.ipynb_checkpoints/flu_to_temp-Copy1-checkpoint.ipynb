{
 "cells": [
  {
   "cell_type": "code",
   "execution_count": null,
   "id": "d18d7b85-89fd-4976-ae65-3fbf55ddb6d4",
   "metadata": {},
   "outputs": [],
   "source": [
    "# Dependencies and Setup\n",
    "import matplotlib.pyplot as plt\n",
    "import pandas as pd\n",
    "import numpy as np\n",
    "import requests\n",
    "import time\n",
    "from scipy.stats import linregress\n",
    "from pathlib import Path\n",
    "\n",
    "#import api_key\n",
    "#from api_keys import api_keys"
   ]
  },
  {
   "cell_type": "code",
   "execution_count": null,
   "id": "b519b11a-f3f6-4a79-8973-dda15b73c9ad",
   "metadata": {},
   "outputs": [],
   "source": [
    "#Creating path to CSV files\n",
    "Flu_path = Path(\"../Resources/ILINet.csv\")\n",
    "Temp_path = Path(\"../Resources/TempByState_1855_2013.csv\")"
   ]
  },
  {
   "cell_type": "code",
   "execution_count": null,
   "id": "2afdd1a1-fef1-4565-905a-b06f61897fb4",
   "metadata": {
    "scrolled": true
   },
   "outputs": [],
   "source": [
    "#Create Flu data frame\n",
    "Flu_df = pd.read_csv(Flu_path)\n",
    "Flu_df.head()"
   ]
  },
  {
   "cell_type": "code",
   "execution_count": null,
   "id": "886aa002-d8c7-49f9-b187-7002c5a68a15",
   "metadata": {},
   "outputs": [],
   "source": [
    "#Resetting indexing to access data\n",
    "Flu_df = Flu_df.reset_index()\n",
    "Flu_df.head()"
   ]
  },
  {
   "cell_type": "code",
   "execution_count": null,
   "id": "cc940b23-5742-4171-9283-2772cbd904b1",
   "metadata": {},
   "outputs": [],
   "source": [
    "#Renaming Columns\n",
    "Flu_df = Flu_df.rename(columns={\"level_0\":\"Region Type\",\"level_1\":\"Region\",\"level_2\":\"Year\",\"level_3\":\"Week\",\"level_4\":\"% Weighted ILI\",\n",
    "                                               \"level_5\":\"% Unweighted ILI\",\"level_6\":\"Ages 0-4\",\"level_7\":\"Ages 25-49\",\"level_8\":\"Ages 25-64\",\"level_9\":\"Ages 5-24\",\n",
    "                                               \"level_10\":\"Ages 50-64\",\"level_11\":\"Ages 65+\",\"level_12\":\"ILI TOTAL\",\"level_13\":\"# Providers\"})\n",
    "Flu_df.head()"
   ]
  },
  {
   "cell_type": "code",
   "execution_count": null,
   "id": "06794305-f0a4-4376-8311-af5190a86017",
   "metadata": {},
   "outputs": [],
   "source": [
    "Flu_df.columns"
   ]
  },
  {
   "cell_type": "code",
   "execution_count": null,
   "id": "7c6d5b64-e2b2-4ddd-a5ff-4853431a772a",
   "metadata": {},
   "outputs": [],
   "source": [
    "#Removing unnecessary data\n",
    "Flu_df = Flu_df.drop(['Region Type','% Weighted ILI','% Unweighted ILI','Ages 25-64','# Providers',\n",
    "                                     'PERCENTAGE OF VISITS FOR INFLUENZA-LIKE-ILLNESS REPORTED BY SENTINEL PROVIDERS'],axis=1)\n",
    "Flu_df = Flu_df.drop([0],axis=0)\n",
    "Flu_df.head()"
   ]
  },
  {
   "cell_type": "code",
   "execution_count": null,
   "id": "07c43ce3-4837-4521-9614-7fe1913d8404",
   "metadata": {},
   "outputs": [],
   "source": [
    "Flu_df.columns"
   ]
  },
  {
   "cell_type": "code",
   "execution_count": null,
   "id": "ec39c400-db81-4d32-ab5b-aab73bfdd2f5",
   "metadata": {},
   "outputs": [],
   "source": [
    "#Rearrange columns so age ranges make sense\n",
    "Flu_df = Flu_df.reindex(columns=['Region','Year','Week','Ages 0-4','Ages 5-24','Ages 25-49','Ages 50-64','Ages 65+','ILI TOTAL'])\n",
    "Flu_df.head()"
   ]
  },
  {
   "cell_type": "code",
   "execution_count": null,
   "id": "3c95ab3c-b72f-4802-b7e3-576dec183698",
   "metadata": {},
   "outputs": [],
   "source": [
    "#Create Temperature data frame\n",
    "Temp_df = pd.read_csv(Temp_path)\n",
    "Temp_df.head()"
   ]
  },
  {
   "cell_type": "code",
   "execution_count": null,
   "id": "cefe2ddb-6a75-4bee-bc1b-5c2b36ba7d86",
   "metadata": {},
   "outputs": [],
   "source": [
    "Temp_df_us = pd.DataFrame(Temp_df.loc[Temp_df[\"Country\"] == \"United States\",:])\n",
    "Temp_df_us.head()"
   ]
  },
  {
   "cell_type": "code",
   "execution_count": null,
   "id": "fa8f430f-3d2d-486a-a33f-3cafb65c6aac",
   "metadata": {},
   "outputs": [],
   "source": []
  }
 ],
 "metadata": {
  "kernelspec": {
   "display_name": "Python 3 (ipykernel)",
   "language": "python",
   "name": "python3"
  },
  "language_info": {
   "codemirror_mode": {
    "name": "ipython",
    "version": 3
   },
   "file_extension": ".py",
   "mimetype": "text/x-python",
   "name": "python",
   "nbconvert_exporter": "python",
   "pygments_lexer": "ipython3",
   "version": "3.11.3"
  }
 },
 "nbformat": 4,
 "nbformat_minor": 5
}
