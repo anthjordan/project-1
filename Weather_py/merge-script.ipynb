{
 "cells": [
  {
   "cell_type": "code",
   "execution_count": 12,
   "id": "83437103",
   "metadata": {},
   "outputs": [
    {
     "name": "stdout",
     "output_type": "stream",
     "text": [
      "          State  Year  Month  Week  AverageTemperature REGION TYPE  \\\n",
      "0       Alabama  2016      1     1           45.227760      States   \n",
      "1       Alabama  2016      1     2           43.475330      States   \n",
      "2       Alabama  2016      1     3           39.243889      States   \n",
      "3       Alabama  2016      1     4           48.005981      States   \n",
      "4       Alabama  2016      2     5           51.415535      States   \n",
      "...         ...   ...    ...   ...                 ...         ...   \n",
      "2107  Tennessee  2020     12    49           38.300606      States   \n",
      "2108  Tennessee  2020     12    50           44.592144      States   \n",
      "2109  Tennessee  2020     12    51           37.202797      States   \n",
      "2110  Tennessee  2020     12    52           38.019409      States   \n",
      "2111  Tennessee  2020      1    53           43.497963      States   \n",
      "\n",
      "     % WEIGHTED ILI %UNWEIGHTED ILI AGE 0-4 AGE 25-49 AGE 25-64 AGE 5-24  \\\n",
      "0                 X         2.77095       X         X         X        X   \n",
      "1                 X         2.79062       X         X         X        X   \n",
      "2                 X         3.24173       X         X         X        X   \n",
      "3                 X         3.15247       X         X         X        X   \n",
      "4                 X         3.24061       X         X         X        X   \n",
      "...             ...             ...     ...       ...       ...      ...   \n",
      "2107              X         2.04144       X         X         X        X   \n",
      "2108              X         1.79852       X         X         X        X   \n",
      "2109              X         1.78376       X         X         X        X   \n",
      "2110              X          1.7492       X         X         X        X   \n",
      "2111              X         1.90414       X         X         X        X   \n",
      "\n",
      "     AGE 50-64 AGE 65 ILITOTAL NUM. OF PROVIDERS TOTAL PATIENTS  \n",
      "0            X      X      293                22          10574  \n",
      "1            X      X      350                27          12542  \n",
      "2            X      X      394                28          12154  \n",
      "3            X      X      416                27          13196  \n",
      "4            X      X      332                24          10245  \n",
      "...        ...    ...      ...               ...            ...  \n",
      "2107         X      X      670               110          32820  \n",
      "2108         X      X      597               108          33194  \n",
      "2109         X      X      554               105          31058  \n",
      "2110         X      X      485               108          27727  \n",
      "2111         X      X      584               107          30670  \n",
      "\n",
      "[2112 rows x 17 columns]\n"
     ]
    }
   ],
   "source": [
    "import pandas as pd\n",
    "\n",
    "# Load your two datasets into pandas DataFrames\n",
    "df_temperatures = pd.read_csv('state_temperatures.csv')\n",
    "df_flu = pd.read_csv('flu_data.csv', skiprows=1)\n",
    "\n",
    "\n",
    "# Ensure the columns we want to merge on have the same data type\n",
    "df_temperatures['Year'] = df_temperatures['Year'].astype(int)\n",
    "df_temperatures['Month'] = df_temperatures['Month'].astype(int)\n",
    "df_temperatures['Week'] = df_temperatures['Week'].astype(int)\n",
    "df_temperatures['State'] = df_temperatures['State'].astype(str)\n",
    "\n",
    "df_flu['Year'] = df_flu['YEAR'].astype(int)\n",
    "df_flu['Week'] = df_flu['WEEK'].astype(int)\n",
    "df_flu['State'] = df_flu['REGION'].astype(str)\n",
    "\n",
    "# Filter flu data to only include states present in the temperature data\n",
    "df_flu = df_flu[df_flu['State'].isin(df_temperatures['State'].unique())]\n",
    "\n",
    "# Merge the dataframes on State, Year, Month and Week\n",
    "df_merged = pd.merge(df_temperatures, df_flu, on=['State', 'Year', 'Week'], how='inner')\n",
    "\n",
    "# Drop duplicate columns\n",
    "df_merged = df_merged.drop(columns=['YEAR', 'WEEK', 'REGION'])\n",
    "\n",
    "# Show the merged dataframe\n",
    "print(df_merged)\n",
    "\n",
    "# Save the merged dataset to a new CSV file\n",
    "df_merged.to_csv('merged_data.csv', index=False)"
   ]
  },
  {
   "cell_type": "code",
   "execution_count": null,
   "id": "73919b6c",
   "metadata": {},
   "outputs": [],
   "source": [
    "\n"
   ]
  },
  {
   "cell_type": "code",
   "execution_count": null,
   "id": "44d888df",
   "metadata": {},
   "outputs": [],
   "source": []
  }
 ],
 "metadata": {
  "kernelspec": {
   "display_name": "Python 3 (ipykernel)",
   "language": "python",
   "name": "python3"
  },
  "language_info": {
   "codemirror_mode": {
    "name": "ipython",
    "version": 3
   },
   "file_extension": ".py",
   "mimetype": "text/x-python",
   "name": "python",
   "nbconvert_exporter": "python",
   "pygments_lexer": "ipython3",
   "version": "3.10.9"
  }
 },
 "nbformat": 4,
 "nbformat_minor": 5
}
